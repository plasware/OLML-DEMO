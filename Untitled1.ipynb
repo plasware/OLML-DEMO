{
 "cells": [
  {
   "cell_type": "code",
   "execution_count": 1,
   "id": "bda3d1cc-6bf2-45cf-abd7-7d12a41ecadb",
   "metadata": {},
   "outputs": [
    {
     "name": "stdout",
     "output_type": "stream",
     "text": [
      "OLML Database init..\n",
      "  Start loading tables...\n",
      "    Finish load table: kefu_qa, size: 11\n",
      "    Finish load table: imdb, size: 100\n",
      "    Finish load table: imdb_reviewer, size: 100\n",
      "    Finish load table: imdb_account, size: 150\n",
      "    Finish load table: book_review, size: 2000\n",
      "    Finish load table: hotel_review, size: 100\n",
      "    Finish load table: movie_review, size: 100\n",
      "    Finish load table: msra_nolabel, size: 10\n",
      "    Finish load table: similarity, size: 12501\n",
      "    Finish load table: beans, size: 128\n",
      "    Finish load table: A, size: 3\n",
      "    Finish load table: B, size: 3\n",
      "  Totally load 16 tables\n",
      "  Start load ops...\n",
      "    Op: SentimentClsCH inited, load 1 models\n",
      "    Op: SentenceSimCH inited, load 1 models\n",
      "    Op: NerCH inited, load 0 models\n"
     ]
    },
    {
     "name": "stderr",
     "output_type": "stream",
     "text": [
      "Some weights of the model checkpoint at E:/RUC/model_repo/bert-base-chinese were not used when initializing BertForSequenceClassification: ['cls.predictions.decoder.weight', 'cls.seq_relationship.bias', 'cls.predictions.transform.LayerNorm.bias', 'cls.predictions.transform.LayerNorm.weight', 'cls.predictions.bias', 'cls.predictions.transform.dense.bias', 'cls.seq_relationship.weight', 'cls.predictions.transform.dense.weight']\n",
      "- This IS expected if you are initializing BertForSequenceClassification from the checkpoint of a model trained on another task or with another architecture (e.g. initializing a BertForSequenceClassification model from a BertForPreTraining model).\n",
      "- This IS NOT expected if you are initializing BertForSequenceClassification from the checkpoint of a model that you expect to be exactly identical (initializing a BertForSequenceClassification model from a BertForSequenceClassification model).\n",
      "Some weights of BertForSequenceClassification were not initialized from the model checkpoint at E:/RUC/model_repo/bert-base-chinese and are newly initialized: ['classifier.weight', 'classifier.bias']\n",
      "You should probably TRAIN this model on a down-stream task to be able to use it for predictions and inference.\n"
     ]
    },
    {
     "name": "stdout",
     "output_type": "stream",
     "text": [
      "    Op: SentimentClsEN inited, load 3 models\n",
      "    Op: SentenceSimEN inited, load 0 models\n",
      "    Op: NerEN inited, load 1 models\n",
      "    Op: ImageClass2 inited, load 0 models\n"
     ]
    },
    {
     "name": "stderr",
     "output_type": "stream",
     "text": [
      "Some weights of the model checkpoint at E:/RUC/model_repo/google--vit-base-patch16-224-in21k were not used when initializing ViTForImageClassification: ['pooler.dense.bias', 'pooler.dense.weight']\n",
      "- This IS expected if you are initializing ViTForImageClassification from the checkpoint of a model trained on another task or with another architecture (e.g. initializing a BertForSequenceClassification model from a BertForPreTraining model).\n",
      "- This IS NOT expected if you are initializing ViTForImageClassification from the checkpoint of a model that you expect to be exactly identical (initializing a BertForSequenceClassification model from a BertForSequenceClassification model).\n",
      "Some weights of ViTForImageClassification were not initialized from the model checkpoint at E:/RUC/model_repo/google--vit-base-patch16-224-in21k and are newly initialized: ['classifier.weight', 'classifier.bias']\n",
      "You should probably TRAIN this model on a down-stream task to be able to use it for predictions and inference.\n"
     ]
    },
    {
     "name": "stdout",
     "output_type": "stream",
     "text": [
      "    Op: ImageClass3 inited, load 1 models\n",
      "    Op: Image2Text inited, load 1 models\n",
      "    Op: TransCH2EN inited, load 1 models\n",
      "    Op: TransEN2CH inited, load 1 models\n",
      "    Op: TransEN2FR inited, load 0 models\n",
      "    Op: TransFR2EN inited, load 0 models\n",
      "  Totally 13 ops inited\n"
     ]
    },
    {
     "name": "stdin",
     "output_type": "stream",
     "text": [
      "olml >  select top 3 question,answer from kefu_qa order by SentenceSimCH(question, \"申请贷款的条件有什么\") desc\n"
     ]
    },
    {
     "name": "stdout",
     "output_type": "stream",
     "text": [
      "Start parse sql query...\n",
      " Finish parse select statement: select top 3 question,answer from kefu_qa order by SentenceSimCH(question, \"申请贷款的条件有什么\") desc\n",
      "    Active op: SentenceSimCH from order_by stmt\n",
      "  Finish parse ops, totally active ops: 1\n",
      "Finish parse sql query\n",
      "Start execute select query...\n",
      "\u001b[0;32;40mFound Corresponding model at: E:/RUC/olml-2024-01-10/models/SentenceSimCH\u001b[0m\n",
      "Finish execute select stmt, return 3 records:\n",
      "|question                                |answer                                  |SentenceSimCH                           |\n",
      "|需要什么条件申请微粒贷？                |首先必须是有自主行为能力的成年人,这..   |0.9407868385314941                      |\n",
      "|提前还款的话  只能全部还清吗？不能..    |用户的贷款提前还款，不一定要一次性提..  |0.6634743213653564                      |\n",
      "|如何取消借款，谢谢                      |如果贷款正在审批中,可以向客户经理提..   |0.6382901072502136                      |\n",
      "\u001b[0;35;40mCommand execution time 22.69s\u001b[0m\n"
     ]
    },
    {
     "name": "stdin",
     "output_type": "stream",
     "text": [
      "olml >  select top 10 review from book_review order by SentimentClsCH(review) desc\n"
     ]
    },
    {
     "name": "stdout",
     "output_type": "stream",
     "text": [
      "Start parse sql query...\n",
      " Finish parse select statement: select top 10 review from book_review order by SentimentClsCH(review) desc\n",
      "    Active op: SentimentClsCH from order_by stmt\n",
      "  Finish parse ops, totally active ops: 1\n",
      "Finish parse sql query\n",
      "Start execute select query...\n",
      "\u001b[0;32;40mFound Corresponding model at: E:/RUC/olml-2024-01-10/models/SentimentClsCH\u001b[0m\n",
      "Finish execute select stmt, return 10 records:\n",
      "|review                                  |SentimentClsCH                          |\n",
      "|文笔极差                                |0.995899498462677                       |\n",
      "|两章弃，太故弄玄虚了，无趣              |0.9957579970359802                      |\n",
      "|索然无味，豆瓣分虚高，童话部分完全看..  |0.9955947995185852                      |\n",
      "|莫名其妙的无厘头，不喜欢                |0.9955287575721741                      |\n",
      "|一看故事简介就觉得不喜欢。一翻开看开..  |0.9954391121864319                      |\n",
      "|实在无法理解作者想要表达什么，一本喃..  |0.995425283908844                       |\n",
      "|让笔者打瞌睡的一女N男式青春狗血言情..   |0.9953895807266235                      |\n",
      "|我不知道为什么会有这么多人喜欢这部小..  |0.9953866600990295                      |\n",
      "|看书名就晓得师生恋。整体矫情。          |0.9953601956367493                      |\n",
      "|这絮絮叨叨的风格实在读不下去了          |0.9953574538230896                      |\n",
      "\u001b[0;35;40mCommand execution time 27.10s\u001b[0m\n"
     ]
    },
    {
     "name": "stdin",
     "output_type": "stream",
     "text": [
      "olml >  exit\n"
     ]
    }
   ],
   "source": [
    "from olml import run\n",
    "run()"
   ]
  },
  {
   "cell_type": "code",
   "execution_count": null,
   "id": "3d57d483-7254-4791-bf41-8b05d50bfd70",
   "metadata": {},
   "outputs": [],
   "source": []
  }
 ],
 "metadata": {
  "kernelspec": {
   "display_name": "Python 3 (ipykernel)",
   "language": "python",
   "name": "python3"
  },
  "language_info": {
   "codemirror_mode": {
    "name": "ipython",
    "version": 3
   },
   "file_extension": ".py",
   "mimetype": "text/x-python",
   "name": "python",
   "nbconvert_exporter": "python",
   "pygments_lexer": "ipython3",
   "version": "3.9.11"
  }
 },
 "nbformat": 4,
 "nbformat_minor": 5
}
