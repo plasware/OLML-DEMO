{
 "cells": [
  {
   "cell_type": "code",
   "execution_count": null,
   "id": "9d5ed56b-0c04-4223-b429-8bd83a602dd3",
   "metadata": {},
   "outputs": [
    {
     "name": "stdout",
     "output_type": "stream",
     "text": [
      "OLML Database init..\n",
      "  Start loading tables...\n",
      "    Finish load table: kefu_qa, size: 11\n",
      "    Finish load table: imdb, size: 100\n",
      "    Finish load table: imdb_reviewer, size: 100\n",
      "    Finish load table: imdb_account, size: 150\n",
      "    Finish load table: book_review, size: 2000\n",
      "    Finish load table: hotel_review, size: 100\n",
      "    Finish load table: movie_review, size: 100\n",
      "    Finish load table: msra_nolabel, size: 10\n",
      "    Finish load table: similarity, size: 12501\n",
      "    Finish load table: beans, size: 128\n",
      "    Finish load table: A, size: 3\n",
      "    Finish load table: B, size: 3\n",
      "  Totally load 16 tables\n",
      "  Start load ops...\n",
      "    Op: SentimentClsCH inited, load 1 models\n",
      "    Op: SentenceSimCH inited, load 0 models\n",
      "    Op: NerCH inited, load 0 models\n"
     ]
    },
    {
     "name": "stderr",
     "output_type": "stream",
     "text": [
      "Some weights of the model checkpoint at E:/RUC/model_repo/bert-base-chinese were not used when initializing BertForSequenceClassification: ['cls.predictions.transform.dense.bias', 'cls.predictions.decoder.weight', 'cls.predictions.transform.LayerNorm.bias', 'cls.seq_relationship.weight', 'cls.seq_relationship.bias', 'cls.predictions.bias', 'cls.predictions.transform.dense.weight', 'cls.predictions.transform.LayerNorm.weight']\n",
      "- This IS expected if you are initializing BertForSequenceClassification from the checkpoint of a model trained on another task or with another architecture (e.g. initializing a BertForSequenceClassification model from a BertForPreTraining model).\n",
      "- This IS NOT expected if you are initializing BertForSequenceClassification from the checkpoint of a model that you expect to be exactly identical (initializing a BertForSequenceClassification model from a BertForSequenceClassification model).\n",
      "Some weights of BertForSequenceClassification were not initialized from the model checkpoint at E:/RUC/model_repo/bert-base-chinese and are newly initialized: ['classifier.weight', 'classifier.bias']\n",
      "You should probably TRAIN this model on a down-stream task to be able to use it for predictions and inference.\n"
     ]
    },
    {
     "name": "stdout",
     "output_type": "stream",
     "text": [
      "    Op: SentimentClsEN inited, load 2 models\n",
      "    Op: SentenceSimEN inited, load 0 models\n",
      "    Op: NerEN inited, load 1 models\n",
      "    Op: ImageClass2 inited, load 0 models\n"
     ]
    },
    {
     "name": "stderr",
     "output_type": "stream",
     "text": [
      "Some weights of the model checkpoint at E:/RUC/model_repo/google--vit-base-patch16-224-in21k were not used when initializing ViTForImageClassification: ['pooler.dense.weight', 'pooler.dense.bias']\n",
      "- This IS expected if you are initializing ViTForImageClassification from the checkpoint of a model trained on another task or with another architecture (e.g. initializing a BertForSequenceClassification model from a BertForPreTraining model).\n",
      "- This IS NOT expected if you are initializing ViTForImageClassification from the checkpoint of a model that you expect to be exactly identical (initializing a BertForSequenceClassification model from a BertForSequenceClassification model).\n",
      "Some weights of ViTForImageClassification were not initialized from the model checkpoint at E:/RUC/model_repo/google--vit-base-patch16-224-in21k and are newly initialized: ['classifier.weight', 'classifier.bias']\n",
      "You should probably TRAIN this model on a down-stream task to be able to use it for predictions and inference.\n"
     ]
    },
    {
     "name": "stdout",
     "output_type": "stream",
     "text": [
      "    Op: ImageClass3 inited, load 1 models\n",
      "    Op: Image2Text inited, load 1 models\n",
      "    Op: TransCH2EN inited, load 1 models\n",
      "    Op: TransEN2CH inited, load 1 models\n",
      "    Op: TransEN2FR inited, load 0 models\n",
      "    Op: TransFR2EN inited, load 0 models\n",
      "  Totally 13 ops inited\n"
     ]
    },
    {
     "name": "stdin",
     "output_type": "stream",
     "text": [
      "olml >  show tables\n"
     ]
    },
    {
     "name": "stdout",
     "output_type": "stream",
     "text": [
      "Start parse sql query...\n",
      " Finish parse show statement: show tables\n",
      "  Finish parse ops, totally active ops: 0\n",
      "Finish parse sql query\n",
      "Start execute show query...\n",
      "Finish execute show stmt\n",
      "|Name                                    |Column                                  |Path                                    |\n",
      "|kefu_qa                                 |question,answer                         |E:/RUC/olml-2024-01..                   |\n",
      "|imdb                                    |rid,review                              |E:/RUC/olml-2024-01..                   |\n",
      "|imdb_reviewer                           |rid,reviewerid                          |E:/RUC/olml-2024-01..                   |\n",
      "|imdb_account                            |reviewerid,rname,fo..                   |E:/RUC/olml-2024-01..                   |\n",
      "|book_review                             |review                                  |E:/RUC/olml-2024-01..                   |\n",
      "|hotel_review                            |review                                  |E:/RUC/olml-2024-01..                   |\n",
      "|movie_review                            |review                                  |E:/RUC/olml-2024-01..                   |\n",
      "|msra_nolabel                            |text,Ner,Ner                            |E:/RUC/olml-2024-01..                   |\n",
      "|similarity                              |label,text_a,text_b                     |E:/RUC/olml-2024-01..                   |\n",
      "|beans                                   |path                                    |E:/RUC/olml-2024-01..                   |\n",
      "|A                                       |a,b,c                                   |E:/RUC/olml-2024-01..                   |\n",
      "|B                                       |a,b,c                                   |E:/RUC/olml-2024-01..                   |\n",
      "\u001b[0;35;40mCommand execution time 0.00s\u001b[0m\n"
     ]
    },
    {
     "name": "stdin",
     "output_type": "stream",
     "text": [
      "olml >  show datasets\n"
     ]
    },
    {
     "name": "stdout",
     "output_type": "stream",
     "text": [
      "Start parse sql query...\n",
      " Finish parse show statement: show datasets\n",
      "  Finish parse ops, totally active ops: 0\n",
      "Finish parse sql query\n",
      "Start execute show query...\n",
      "Finish execute show stmt\n",
      "|Name                                    |Training File                           |Development File                        |Test File                               |Realm                                   |\n",
      "|hotel                                   |train.tsv                               |dev.tsv                                 |test.tsv                                |SentimentClsCH                          |\n",
      "|book                                    |train_512.tsv                           |dev.tsv                                 |test.tsv                                |SentimentClsCH                          |\n",
      "|movie                                   |train.tsv                               |dev.tsv                                 |test.tsv                                |SentimentClsCH                          |\n",
      "|computer                                |train.tsv                               |dev.tsv                                 |test.tsv                                |SentimentClsCH                          |\n",
      "|imdb                                    |train.tsv                               |dev.tsv                                 |test.tsv                                |SentimentClsEN                          |\n",
      "|kefu                                    |train.tsv                               |dev.tsv                                 |test.tsv                                |SentenceSim                             |\n",
      "|msra_ner                                |train.tsv                               |dev.tsv                                 |test.tsv                                |NerCH                                   |\n",
      "|beans                                   |train.tsv                               |dev.tsv                                 |test.tsv                                |ImageClass3                             |\n",
      "\u001b[0;35;40mCommand execution time 0.00s\u001b[0m\n"
     ]
    },
    {
     "name": "stdin",
     "output_type": "stream",
     "text": [
      "olml >  show models\n"
     ]
    },
    {
     "name": "stdout",
     "output_type": "stream",
     "text": [
      "Start parse sql query...\n",
      " Finish parse show statement: show models\n",
      "  Finish parse ops, totally active ops: 0\n",
      "Finish parse sql query\n",
      "Start execute show query...\n",
      "Finish execute show stmt\n",
      "|Name                                    |Training Dataset                        |path                                    |Task                                    |Training File                           |\n",
      "|bert-base-chinese                       |book                                    |E:/RUC/olml-2024-01..                   |SentimentClsCH                          |train.tsv                               |\n",
      "|bert                                    |hotel                                   |E:/RUC/model_repo/b..                   |SentimentClsEN                          |train.tsv                               |\n",
      "|bert-base-uncased                       |imdb                                    |E:/RUC/olml-2024-01..                   |SentimentClsEN                          |train.tsv                               |\n",
      "|roberta                                 |msra                                    |E:/RUC/olml-2024-01..                   |NerEN                                   |train.tsv                               |\n",
      "|opus-mt-zh-en                           |book_review                             |E:/RUC/olml-2024-01..                   |TransCH2EN                              |train.tsv                               |\n",
      "|opus-mt-en-zh                           |book_review                             |E:/RUC/olml-2024-01..                   |TransEN2CH                              |train.tsv                               |\n",
      "|image2text                              |book_review                             |E:/RUC/olml-2024-01..                   |Image2Text                              |train.tsv                               |\n",
      "|vit                                     |beans                                   |E:/RUC/model_repo/g..                   |ImageClass3                             |train.tsv                               |\n",
      "\u001b[0;35;40mCommand execution time 0.00s\u001b[0m\n"
     ]
    },
    {
     "name": "stdin",
     "output_type": "stream",
     "text": [
      "olml >  select review, TransCH2EN(review) from hotel_review\n"
     ]
    },
    {
     "name": "stderr",
     "output_type": "stream",
     "text": [
      "Building prefix dict from the default dictionary ...\n",
      "Loading model from cache C:\\Users\\Administrator\\AppData\\Local\\Temp\\jieba.cache\n"
     ]
    },
    {
     "name": "stdout",
     "output_type": "stream",
     "text": [
      "Start parse sql query...\n",
      " Finish parse select statement: select review, TransCH2EN(review) from hotel_review\n",
      "    Active op: TransCH2EN from project stmt\n",
      "  Finish parse ops, totally active ops: 1\n",
      "Finish parse sql query\n",
      "Start execute select query...\n",
      "\u001b[0;33;40mNo Corresponding model. Calculating similar one.\u001b[0m\n"
     ]
    },
    {
     "name": "stderr",
     "output_type": "stream",
     "text": [
      "Loading model cost 0.440 seconds.\n",
      "Prefix dict has been built successfully.\n"
     ]
    },
    {
     "name": "stdout",
     "output_type": "stream",
     "text": [
      "\u001b[0;32;40mChoose model opus-mt-zh-en as infer model\u001b[0m\n",
      "Finish execute select stmt, return 100 records:\n",
      "|review                                  |TransCH2EN(review)                      |\n",
      "|\"入住A栋,房间很大,面海的房间还有大..    |\"Behind building A,..                   |\n",
      "|一般，总的来说服务不是很好，门童还可以..|Usually, the servic..                   |\n",
      "|\"酒店环境很不错,服务也很好,前台的接..   |\"The hotel environm..                   |\n",
      "|\"酒店离火车站不远,打的只要8元。就在..   |\"The hotel's not fa..                   |\n",
      "|\"卫生条件还行,价格也还可以,酒店人员..   |\"The sanitary condi..                   |\n",
      "|为什么我们每天订房间，就不送水果、咖啡..|Why don't we book a..                   |\n",
      "|\"我订的是高级淑女房(双床),房间还算..    |\"I'm ordering a hig..                   |\n",
      "|在那里真让人。。。在房间里有明示卡说明..|It's really nice to..                   |\n",
      "|\"2007年9月份曾住二晚,总体评价:..        |\"It was two nights ..                   |\n",
      "|\"环境不错非常的安静,房间也OK就是交..    |\"It's nice, it's qu..                   |\n",
      "|\"我订的是高级间，因为不吸烟，很幸运的.. |\"I ordered a high-c..                   |\n",
      "|\"五一节去的，住的是家庭房，别的倒还可.. |\"Five sections go t..                   |\n",
      "|地理位置不错，在市中心繁华地段，去天津..|It's nice to be in ..                   |\n",
      "|7月23日-26日住了三晚，338的大..         |Three nights from J..                   |\n",
      "|中银大厦的前台服务态度非常好。及时帮我..|It's a very good fr..                   |\n",
      "|价格和设施还是成正比的。这次给客人预定..|Prices and faciliti..                   |\n",
      "|酒店很清静，是典型的商务住宿选择，早餐..|Hotels are quiet, t..                   |\n",
      "|听说金仕顿已经是4星级了，感觉和3星没..  |It is said that Kin..                   |\n",
      "|去之前在网上找莫干山住宿的资料，很少。..|It's really hard to..                   |\n",
      "|\"比较老的饭店了,房间只能用还比较干净..  |\"An older hotel, th..                   |\n",
      "|相当喜欢这家酒店。首先是地理位置，前临..|First, we live on t..                   |\n",
      "|应该不是我第一次评价这个酒店了，没办法..|It should not be th..                   |\n",
      "|\"K-BarBase到深夜2点才停、比..           |\"K-Barbase doesn't ..                   |\n",
      "|两星级的设施(可能还没有)，四星的收费..  |Two-star facilities..                   |\n",
      "|\"是我住过的所有旅馆里最差的一个.预订..  |\"The worst of all t..                   |\n",
      "|非常不错的酒店，房间虽然不大但很精致，..|It's a very nice ho..                   |\n",
      "|很一般。性价比很差。跟上海的快捷酒店相..|The price is very l..                   |\n",
      "|拿房时没大床房了，给我们免费升成套房，..|We don't have a big..                   |\n",
      "|地理位置较优越，房间内干净整洁，不能说..|It's better to be i..                   |\n",
      "|\"位置不错,在市中心.周围吃饭等很方便..   |\"It's a nice spot. ..                   |\n",
      "|环境还不错，服务也还可以。环境比隔壁香..|It's nice and servi..                   |\n",
      "|由于工作的关系，住过很多次，房间及酒店..|I left the shampoo ..                   |\n",
      "|\"酒店服的服度不太有貌,入住的房比陋,..   |\"The clothes of the..                   |\n",
      "|非常不错的一家酒店，硬件软件都是一流的..|It's a very nice ho..                   |\n",
      "|\"如要入住住以下,我提最好不要入住,通..   |\"If you want to sta..                   |\n",
      "|酒店位置不错，房间也比较干净。酒店服务..|It's nice to have a..                   |\n",
      "|酒店新装修，房间硬件设施还是不错的。但..|The hotel is new, a..                   |\n",
      "|\"地理位置非常好,交通方便,距西湖很近..   |\"Excellent geograph..                   |\n",
      "|房间非常小房间设施非常旧，因为装修至今..|The room is very sm..                   |\n",
      "|早餐种类太少质量也太差，吃稀饭都没有一..|The variety of brea..                   |\n",
      "|地理位置好，离河边不远，我们中秋期间区..|It's a good locatio..                   |\n",
      "|总算可以免费上网了～经过3年的营运，价.. |After three years o..                   |\n",
      "|优点就是地理位置，到外滩和南京路走路1.. |The advantage is ge..                   |\n",
      "|总体感觉一般，结账的时候等候时间太长，..|Overall, there was ..                   |\n",
      "|不知道什么原因，这个酒店目前的价格做了..|For some reason, th..                   |\n",
      "|\"总体来讲,非常失望。完全不值我们付的..  |Overall, it's very ..                   |\n",
      "|不错的酒店，大堂和餐厅的环境都不错。但..|It's a nice hotel, ..                   |\n",
      "|酒店的电视节目少.没有HBO....地..        |There are few TV sh..                   |\n",
      "|房间非常好，早餐还好，比较满意。房间缺..|The room is very go..                   |\n",
      "|\"我于1月31日入住该酒店,其硬件设施..     |\"I entered the hote..                   |\n",
      "|我可以负责任的告诉大家：这是我到目前为..|I can tell you in a..                   |\n",
      "|\"3月住了4晚,感觉不错,比翠怡要好5..      |\"Four nights in Mar..                   |\n",
      "|我是1月10号到的牡丹江，当晚在金鼎前..   |I'm the best four-s..                   |\n",
      "|太脏，停车场太小，建议携程不要推荐这样..|It's too dirty. The..                   |\n",
      "|总的来说比想象的好，房间比较新，宽带速..|In general, it's be..                   |\n",
      "|可以将古城尽收眼底，地处离四方街不远的..|It's easy, it's qui..                   |\n",
      "|所谓山景房，就是非海景房而已，没有什么..|The so-called Mount..                   |\n",
      "|看到网上对该酒店的评论印象不是太好，但..|It wasn't too good ..                   |\n",
      "|这个酒店整体来讲还是经济实惠，我三月份..|The hotel as a whol..                   |\n",
      "|入住的是标准房.设施比较新.房间大.餐..   |It's a standard roo..                   |\n",
      "|\"地理位置很方便,就是紧挨着火车站,有..   |\"Geographically con..                   |\n",
      "|\"入住豪华大床房,房间真的很大,沙发,..    |\"In a big room, a r..                   |\n",
      "|位置不错，逛街购物相当方便。房间不算太..|It's a nice spot. I..                   |\n",
      "|香港万豪充满了香港特色，寸土寸金，所以..|Hong Kong has a ver..                   |\n",
      "|这个价位，感觉还没有锦江之星好。房间比..|The price is not as..                   |\n",
      "|因为悦华酒店没房间了才通过携程定泉州酒..|It's because the Hi..                   |\n",
      "|酒店已经很老旧，却刚刚评上四星，就这样..|The hotel is old, b..                   |\n",
      "|酒店满干净的，前台服务也可以，就是被套..|The hotel is clean,..                   |\n",
      "|本来要订衢州酒店，临时告知满房，改到国..|We're going to book..                   |\n",
      "|\"房间太旧了,价格上也不实惠,不过在信..   |\"The room is too ol..                   |\n",
      "|12月在金泉订了个豪华商务小套房，房间..  |In December, a luxu..                   |\n",
      "|刚为朋友29号预定的北方担心过，不料3..   |I was just worried ..                   |\n",
      "|\"6月23日中午12点进入酒店，说明是..      |\"Into the hotel at ..                   |\n",
      "|这个宾馆最大的特色就是房费里含了一日三..|The biggest feature..                   |\n",
      "|走廊里的地毯很污浊，房间内的设施很一般..|The carpets in the ..                   |\n",
      "|走沪杭高速的话，路过嘉兴东出口千万别下..|The four-star garde..                   |\n",
      "|已经住过几次这家酒店，感觉非常好。服务..|I've been in this h..                   |\n",
      "|今天刚从三亚飞回来，住这家酒店是前天晚..|It's the cheapest h..                   |\n",
      "|每次住的感觉都不错，就是这次被蚊子打扰..|Every time it feels..                   |\n",
      "|酒店还是不错，不过携程的价格还不够好一..|Hotels are good, bu..                   |\n",
      "|\"2008年02月17日入住兴亚建国饭..         |\"On 17th of Februar..                   |\n",
      "|南阳就只有这两个酒店可以选择，另外一个..|Namyang is the only..                   |\n",
      "|房间比较旧，骚扰电话太多，一个接一个，..|The room is old, th..                   |\n",
      "|几个月之后再次入住，一进门大厅里一位女..|A few months later,..                   |\n",
      "|地段好，设施全，服务一流，希望以后还能..|Good location, full..                   |\n",
      "|本来定阙里宾舍，定单提交后携程打来电话..|After the order was..                   |\n",
      "|地点不错，从客运站坐TAXI到饭店大约..    |It's a good place t..                   |\n",
      "|\"广大携程会员请注意:此酒店旁边在造地..  |\"Please pay attenti..                   |\n",
      "|\"酒店设施还可以,服务也不错.值得一提..   |\"Hotel facilities a..                   |\n",
      "|男友是老外第一次来上海所以选择住的离外..|This is the first t..                   |\n",
      "|\"看了一些朋友的评价之前多少有些顾虑,..  |\"Looked at some of ..                   |\n",
      "|性价比可以，让人有还想再入住的感觉，在..|The price of sex is..                   |\n",
      "|\"总体而言卫生尚佳!但不能自己烧水,不..   |\"In general, it's g..                   |\n",
      "|房间感觉还可以，但是洗漱用的毛巾浴巾质..|The room feels okay..                   |\n",
      "|房间还可以，不脏；热水放了30分钟后才..  |The room's okay. It..                   |\n",
      "|环境还算可以，可能是当地饮食文化跟东莞..|The environment may..                   |\n",
      "|酒店设施较好，地理位置靠近中关村，周边..|Hotel facilities ar..                   |\n",
      "|刚刚结束4天的旅游行，在YMCA的三天..     |The four-day tour h..                   |\n",
      "|酒店房间确实是干净，没问题，就是要仔细..|The hotel room is r..                   |\n",
      "|顶的双人房，我们下飞机做大巴，然后打的..|The top double room..                   |\n",
      "\u001b[0;35;40mCommand execution time 67.55s\u001b[0m\n"
     ]
    },
    {
     "name": "stdin",
     "output_type": "stream",
     "text": [
      "olml >  select top 10 review from book_review order by SentimentClsCH(review) desc\n"
     ]
    },
    {
     "name": "stdout",
     "output_type": "stream",
     "text": [
      "Start parse sql query...\n",
      " Finish parse select statement: select top 10 review from book_review order by SentimentClsCH(review) desc\n",
      "    Active op: SentimentClsCH from order_by stmt\n",
      "  Finish parse ops, totally active ops: 1\n",
      "Finish parse sql query\n",
      "Start execute select query...\n",
      "\u001b[0;32;40mFound Corresponding model at: E:/RUC/olml-2024-01-10/models/SentimentClsCH\u001b[0m\n",
      "Finish execute select stmt, return 10 records:\n",
      "|review                                  |SentimentClsCH                          |\n",
      "|文笔极差                                |0.995899498462677                       |\n",
      "|两章弃，太故弄玄虚了，无趣              |0.9957579970359802                      |\n",
      "|索然无味，豆瓣分虚高，童话部分完全看不..|0.9955947995185852                      |\n",
      "|莫名其妙的无厘头，不喜欢                |0.9955287575721741                      |\n",
      "|一看故事简介就觉得不喜欢。一翻开看开头..|0.9954391121864319                      |\n",
      "|实在无法理解作者想要表达什么，一本喃喃..|0.995425283908844                       |\n",
      "|让笔者打瞌睡的一女N男式青春狗血言情剧.. |0.9953895807266235                      |\n",
      "|我不知道为什么会有这么多人喜欢这部小说..|0.9953866600990295                      |\n",
      "|看书名就晓得师生恋。整体矫情。          |0.9953601956367493                      |\n",
      "|这絮絮叨叨的风格实在读不下去了          |0.9953574538230896                      |\n",
      "\u001b[0;35;40mCommand execution time 26.07s\u001b[0m\n"
     ]
    },
    {
     "name": "stdin",
     "output_type": "stream",
     "text": [
      "olml >  select top 5 Image2Text(path) from beans\n"
     ]
    },
    {
     "name": "stdout",
     "output_type": "stream",
     "text": [
      "Start parse sql query...\n",
      " Finish parse select statement: select top 5 Image2Text(path) from beans\n",
      "    Active op: Image2Text from project stmt\n",
      "  Finish parse ops, totally active ops: 1\n",
      "Finish parse sql query\n",
      "Start execute select query...\n",
      "\u001b[0;33;40mNo Corresponding model. Calculating similar one.\u001b[0m\n",
      "\u001b[0;32;40mChoose model image2text as infer model\u001b[0m\n",
      "Finish execute select stmt, return 5 records:\n",
      "|Image2Text(path)                        |\n",
      "|['a green plant gro..                   |\n",
      "|['a green plant gro..                   |\n",
      "|[\"a small green pla..                   |\n",
      "|['a close up view o..                   |\n",
      "|['a person holding ..                   |\n",
      "\u001b[0;35;40mCommand execution time 10.43s\u001b[0m\n"
     ]
    },
    {
     "name": "stdin",
     "output_type": "stream",
     "text": [
      "olml >  select path, image from beans where ImageClass3(path) = bean_rust\n"
     ]
    },
    {
     "name": "stdout",
     "output_type": "stream",
     "text": [
      "Start parse sql query...\n",
      " Finish parse select statement: select path, image from beans where ImageClass3(path) = bean_rust\n",
      "    Active op: ImageClass3 from select stmt\n",
      "  Finish parse ops, totally active ops: 1\n",
      "Finish parse sql query\n",
      "Start execute select query...\n",
      "  predicate push down\n",
      "\u001b[0;32;40mFound Corresponding model at: E:/RUC/model_repo/google--vit-base-patch16-224-in21k\u001b[0m\n",
      "Finish execute select stmt, return 103 records:\n",
      "\u001b[0;35;40mOnly show one of the matched image\u001b[0m\n",
      "\u001b[0;35;40mCommand execution time 8.64s\u001b[0m\n"
     ]
    },
    {
     "name": "stdin",
     "output_type": "stream",
     "text": [
      "olml >  select top 5 * from imdb\n"
     ]
    },
    {
     "name": "stdout",
     "output_type": "stream",
     "text": [
      "Start parse sql query...\n",
      " Finish parse select statement: select top 5 * from imdb\n",
      "  Finish parse ops, totally active ops: 0\n",
      "Finish parse sql query\n",
      "Start execute select query...\n",
      "Finish execute select stmt, return 5 records:\n",
      "|rid                                     |review                                  |\n",
      "|1                                       |This is just a prec..                   |\n",
      "|2                                       |When I say this is ..                   |\n",
      "|3                                       |I saw this movie be..                   |\n",
      "|4                                       |Being that the only..                   |\n",
      "|5                                       |After seeing Point ..                   |\n",
      "\u001b[0;35;40mCommand execution time 0.01s\u001b[0m\n"
     ]
    },
    {
     "name": "stdin",
     "output_type": "stream",
     "text": [
      "olml >  select top 5 * from imdb_reviewer\n"
     ]
    },
    {
     "name": "stdout",
     "output_type": "stream",
     "text": [
      "Start parse sql query...\n",
      " Finish parse select statement: select top 5 * from imdb_reviewer\n",
      "  Finish parse ops, totally active ops: 0\n",
      "Finish parse sql query\n",
      "Start execute select query...\n",
      "Finish execute select stmt, return 5 records:\n",
      "|rid                                     |reviewerid                              |\n",
      "|1                                       |146                                     |\n",
      "|2                                       |147                                     |\n",
      "|3                                       |85                                      |\n",
      "|4                                       |116                                     |\n",
      "|5                                       |108                                     |\n",
      "\u001b[0;35;40mCommand execution time 0.00s\u001b[0m\n"
     ]
    },
    {
     "name": "stdin",
     "output_type": "stream",
     "text": [
      "olml >  select top 5 * from imdb_account\n"
     ]
    },
    {
     "name": "stdout",
     "output_type": "stream",
     "text": [
      "Start parse sql query...\n",
      " Finish parse select statement: select top 5 * from imdb_account\n",
      "  Finish parse ops, totally active ops: 0\n",
      "Finish parse sql query\n",
      "Start execute select query...\n",
      "Finish execute select stmt, return 5 records:\n",
      "|reviewerid                              |rname                                   |follower                                |\n",
      "|1                                       |Reviewer_334126343                      |2072                                    |\n",
      "|2                                       |Reviewer_350983914                      |6864                                    |\n",
      "|3                                       |Reviewer_463994671                      |9589                                    |\n",
      "|4                                       |Reviewer_346003244                      |3504                                    |\n",
      "|5                                       |Reviewer_269934388                      |721                                     |\n",
      "\u001b[0;35;40mCommand execution time 0.00s\u001b[0m\n"
     ]
    },
    {
     "name": "stdin",
     "output_type": "stream",
     "text": [
      "olml >  select top 3 imdb.review, imdb_account.rname, imdb_account.follower from imdb, imdb_reviewer, imdb_account where SentimentClsEN(imdb.review) > 0.7 and imdb.rid = imdb_reviewer.rid and imdb_reviewer.reviewerid = imdb_account.reviewerid order by imdb_account.follower desc\n"
     ]
    },
    {
     "name": "stdout",
     "output_type": "stream",
     "text": [
      "Start parse sql query...\n",
      " Finish parse select statement: select top 3 imdb.review, imdb_account.rname, imdb_account.follower from imdb, imdb_reviewer, imdb_account where SentimentClsEN(imdb.review) > 0.7 and imdb.rid = imdb_reviewer.rid and imdb_reviewer.reviewerid = imdb_account.reviewerid order by imdb_account.follower desc\n",
      "    Active op: SentimentClsEN from select stmt\n",
      "  Finish parse ops, totally active ops: 1\n",
      "Finish parse sql query\n",
      "Start execute select query...\n",
      "  predicate push down\n",
      "\u001b[0;32;40mFound Corresponding model at: E:/RUC/olml-2024-01-10/models/SentimentClsEN\u001b[0m\n"
     ]
    }
   ],
   "source": [
    "from olml import run\n",
    "run()"
   ]
  },
  {
   "cell_type": "code",
   "execution_count": null,
   "id": "e75b0dab-0160-42a0-bee5-9b01eb2578ca",
   "metadata": {},
   "outputs": [],
   "source": []
  }
 ],
 "metadata": {
  "kernelspec": {
   "display_name": "Python 3 (ipykernel)",
   "language": "python",
   "name": "python3"
  },
  "language_info": {
   "codemirror_mode": {
    "name": "ipython",
    "version": 3
   },
   "file_extension": ".py",
   "mimetype": "text/x-python",
   "name": "python",
   "nbconvert_exporter": "python",
   "pygments_lexer": "ipython3",
   "version": "3.9.11"
  }
 },
 "nbformat": 4,
 "nbformat_minor": 5
}
