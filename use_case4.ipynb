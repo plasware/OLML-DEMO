{
 "cells": [
  {
   "cell_type": "code",
   "execution_count": 1,
   "id": "e32f4e7d-d7aa-4cd4-abc1-af4ae60aaef2",
   "metadata": {},
   "outputs": [
    {
     "name": "stdout",
     "output_type": "stream",
     "text": [
      "OLML Database init..\n",
      "  Start loading tables...\n",
      "    Finish load table: kefu_qa, size: 11\n",
      "    Finish load table: imdb, size: 100\n",
      "    Finish load table: imdb_reviewer, size: 100\n",
      "    Finish load table: imdb_account, size: 150\n",
      "    Finish load table: book_review, size: 2000\n",
      "    Finish load table: hotel_review, size: 100\n",
      "    Finish load table: movie_review, size: 100\n",
      "    Finish load table: msra_nolabel, size: 10\n",
      "    Finish load table: similarity, size: 12501\n",
      "    Finish load table: beans, size: 128\n",
      "    Finish load table: A, size: 3\n",
      "    Finish load table: B, size: 3\n",
      "  Totally load 16 tables\n",
      "  Start load ops...\n",
      "    Op: SentimentClsCH inited, load 0 models\n",
      "    Op: SentenceSimCH inited, load 0 models\n",
      "    Op: NerCH inited, load 0 models\n",
      "    Op: SentimentClsEN inited, load 0 models\n",
      "    Op: SentenceSimEN inited, load 0 models\n",
      "    Op: NerEN inited, load 0 models\n",
      "    Op: ImageClass2 inited, load 0 models\n",
      "    Op: ImageClass3 inited, load 0 models\n",
      "    Op: Image2Text inited, load 0 models\n",
      "    Op: TransCH2EN inited, load 0 models\n",
      "    Op: TransEN2CH inited, load 0 models\n",
      "    Op: TransEN2FR inited, load 0 models\n",
      "    Op: TransFR2EN inited, load 0 models\n",
      "  Totally 13 ops inited\n"
     ]
    },
    {
     "name": "stdin",
     "output_type": "stream",
     "text": [
      "olml >  create model imdb where dataset = imdb\n"
     ]
    },
    {
     "name": "stdout",
     "output_type": "stream",
     "text": [
      "Start parse sql query...\n",
      " Finish parse create model statement: create model imdb where dataset = imdb\n",
      "  Finish parse ops, totally active ops: 0\n",
      "Finish parse sql query\n",
      "Start execute create model query...\n",
      "\u001b[0;33;40mChoose random model. Fast model selection is not used.\u001b[0m\n",
      "\u001b[0;33;40mThis is supposed to be a comparison.\u001b[0m\n",
      "\u001b[0;32;40mUsing Jeevesh8--init_bert_ft_qqp-24 as base model.\u001b[0m\n",
      "will create model from dataset\n",
      "('imdb', 'train.tsv', 'dev.tsv', 'test.tsv', 'SentimentClsEN')\n"
     ]
    },
    {
     "data": {
      "application/vnd.jupyter.widget-view+json": {
       "model_id": "e988edefbaa94926bcd7c9cf92b09686",
       "version_major": 2,
       "version_minor": 0
      },
      "text/plain": [
       "Map:   0%|          | 0/500 [00:00<?, ? examples/s]"
      ]
     },
     "metadata": {},
     "output_type": "display_data"
    },
    {
     "data": {
      "application/vnd.jupyter.widget-view+json": {
       "model_id": "f590942161fb4fc5983408f38df7f62f",
       "version_major": 2,
       "version_minor": 0
      },
      "text/plain": [
       "Map:   0%|          | 0/300 [00:00<?, ? examples/s]"
      ]
     },
     "metadata": {},
     "output_type": "display_data"
    },
    {
     "name": "stderr",
     "output_type": "stream",
     "text": [
      "The following columns in the training set don't have a corresponding argument in `BertForSequenceClassification.forward` and have been ignored: text. If text are not expected by `BertForSequenceClassification.forward`,  you can safely ignore this message.\n",
      "***** Running training *****\n",
      "  Num examples = 500\n",
      "  Num Epochs = 2\n",
      "  Instantaneous batch size per device = 16\n",
      "  Total train batch size (w. parallel, distributed & accumulation) = 16\n",
      "  Gradient Accumulation steps = 1\n",
      "  Total optimization steps = 64\n",
      "  Number of trainable parameters = 109483778\n"
     ]
    },
    {
     "data": {
      "text/html": [
       "\n",
       "    <div>\n",
       "      \n",
       "      <progress value='64' max='64' style='width:300px; height:20px; vertical-align: middle;'></progress>\n",
       "      [64/64 19:59, Epoch 2/2]\n",
       "    </div>\n",
       "    <table border=\"1\" class=\"dataframe\">\n",
       "  <thead>\n",
       " <tr style=\"text-align: left;\">\n",
       "      <th>Epoch</th>\n",
       "      <th>Training Loss</th>\n",
       "      <th>Validation Loss</th>\n",
       "      <th>Accuracy</th>\n",
       "    </tr>\n",
       "  </thead>\n",
       "  <tbody>\n",
       "    <tr>\n",
       "      <td>1</td>\n",
       "      <td>No log</td>\n",
       "      <td>0.556981</td>\n",
       "      <td>0.783333</td>\n",
       "    </tr>\n",
       "    <tr>\n",
       "      <td>2</td>\n",
       "      <td>No log</td>\n",
       "      <td>0.400911</td>\n",
       "      <td>0.866667</td>\n",
       "    </tr>\n",
       "  </tbody>\n",
       "</table><p>"
      ],
      "text/plain": [
       "<IPython.core.display.HTML object>"
      ]
     },
     "metadata": {},
     "output_type": "display_data"
    },
    {
     "name": "stderr",
     "output_type": "stream",
     "text": [
      "The following columns in the evaluation set don't have a corresponding argument in `BertForSequenceClassification.forward` and have been ignored: text. If text are not expected by `BertForSequenceClassification.forward`,  you can safely ignore this message.\n",
      "***** Running Evaluation *****\n",
      "  Num examples = 300\n",
      "  Batch size = 16\n",
      "Saving model checkpoint to E:/RUC/olml-2024-01-10/models/imdb_SentimentClsEN.bin\\checkpoint-32\n",
      "Configuration saved in E:/RUC/olml-2024-01-10/models/imdb_SentimentClsEN.bin\\checkpoint-32\\config.json\n",
      "Model weights saved in E:/RUC/olml-2024-01-10/models/imdb_SentimentClsEN.bin\\checkpoint-32\\pytorch_model.bin\n",
      "tokenizer config file saved in E:/RUC/olml-2024-01-10/models/imdb_SentimentClsEN.bin\\checkpoint-32\\tokenizer_config.json\n",
      "Special tokens file saved in E:/RUC/olml-2024-01-10/models/imdb_SentimentClsEN.bin\\checkpoint-32\\special_tokens_map.json\n",
      "The following columns in the evaluation set don't have a corresponding argument in `BertForSequenceClassification.forward` and have been ignored: text. If text are not expected by `BertForSequenceClassification.forward`,  you can safely ignore this message.\n",
      "***** Running Evaluation *****\n",
      "  Num examples = 300\n",
      "  Batch size = 16\n",
      "Saving model checkpoint to E:/RUC/olml-2024-01-10/models/imdb_SentimentClsEN.bin\\checkpoint-64\n",
      "Configuration saved in E:/RUC/olml-2024-01-10/models/imdb_SentimentClsEN.bin\\checkpoint-64\\config.json\n",
      "Model weights saved in E:/RUC/olml-2024-01-10/models/imdb_SentimentClsEN.bin\\checkpoint-64\\pytorch_model.bin\n",
      "tokenizer config file saved in E:/RUC/olml-2024-01-10/models/imdb_SentimentClsEN.bin\\checkpoint-64\\tokenizer_config.json\n",
      "Special tokens file saved in E:/RUC/olml-2024-01-10/models/imdb_SentimentClsEN.bin\\checkpoint-64\\special_tokens_map.json\n",
      "\n",
      "\n",
      "Training completed. Do not forget to share your model on huggingface.co/models =)\n",
      "\n",
      "\n",
      "Loading best model from E:/RUC/olml-2024-01-10/models/imdb_SentimentClsEN.bin\\checkpoint-64 (score: 0.40091145038604736).\n",
      "Saving model checkpoint to E:/RUC/olml-2024-01-10/models/imdb_SentimentClsEN.bin\n",
      "Configuration saved in E:/RUC/olml-2024-01-10/models/imdb_SentimentClsEN.bin\\config.json\n",
      "Model weights saved in E:/RUC/olml-2024-01-10/models/imdb_SentimentClsEN.bin\\pytorch_model.bin\n",
      "tokenizer config file saved in E:/RUC/olml-2024-01-10/models/imdb_SentimentClsEN.bin\\tokenizer_config.json\n",
      "Special tokens file saved in E:/RUC/olml-2024-01-10/models/imdb_SentimentClsEN.bin\\special_tokens_map.json\n"
     ]
    },
    {
     "name": "stdout",
     "output_type": "stream",
     "text": [
      "Finish execute create model stmt, model_name: imdb\n",
      "\u001b[0;35;40mCommand execution time 1215.50s\u001b[0m\n"
     ]
    },
    {
     "name": "stdin",
     "output_type": "stream",
     "text": [
      "olml >  exit\n"
     ]
    }
   ],
   "source": [
    "from olml import run\n",
    "run()"
   ]
  },
  {
   "cell_type": "code",
   "execution_count": null,
   "id": "3041476e-d1ea-4028-8544-974d64a0c3a3",
   "metadata": {},
   "outputs": [],
   "source": []
  }
 ],
 "metadata": {
  "kernelspec": {
   "display_name": "Python 3 (ipykernel)",
   "language": "python",
   "name": "python3"
  },
  "language_info": {
   "codemirror_mode": {
    "name": "ipython",
    "version": 3
   },
   "file_extension": ".py",
   "mimetype": "text/x-python",
   "name": "python",
   "nbconvert_exporter": "python",
   "pygments_lexer": "ipython3",
   "version": "3.9.11"
  }
 },
 "nbformat": 4,
 "nbformat_minor": 5
}
