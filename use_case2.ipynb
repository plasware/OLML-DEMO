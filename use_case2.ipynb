{
 "cells": [
  {
   "cell_type": "code",
   "execution_count": 1,
   "id": "148738ea-caf6-44ab-bc19-a6d0281d32cc",
   "metadata": {},
   "outputs": [
    {
     "name": "stdout",
     "output_type": "stream",
     "text": [
      "OLML Database init..\n",
      "  Start loading tables...\n",
      "    Finish load table: kefu_qa, size: 11\n",
      "    Finish load table: imdb, size: 100\n",
      "    Finish load table: imdb_reviewer, size: 100\n",
      "    Finish load table: imdb_account, size: 150\n",
      "    Finish load table: book_review, size: 2000\n",
      "    Finish load table: hotel_review, size: 100\n",
      "    Finish load table: movie_review, size: 100\n",
      "    Finish load table: msra_nolabel, size: 10\n",
      "    Finish load table: similarity, size: 12501\n",
      "    Finish load table: beans, size: 128\n",
      "    Finish load table: A, size: 3\n",
      "    Finish load table: B, size: 3\n",
      "  Totally load 16 tables\n",
      "  Start load ops...\n",
      "    Op: SentimentClsCH inited, load 0 models\n",
      "    Op: SentenceSimCH inited, load 0 models\n",
      "    Op: NerCH inited, load 0 models\n",
      "    Op: SentimentClsEN inited, load 0 models\n",
      "    Op: SentenceSimEN inited, load 0 models\n",
      "    Op: NerEN inited, load 0 models\n",
      "    Op: ImageClass2 inited, load 0 models\n",
      "    Op: ImageClass3 inited, load 0 models\n",
      "    Op: Image2Text inited, load 0 models\n",
      "    Op: TransCH2EN inited, load 0 models\n",
      "    Op: TransEN2CH inited, load 0 models\n",
      "    Op: TransEN2FR inited, load 0 models\n",
      "    Op: TransFR2EN inited, load 0 models\n",
      "  Totally 13 ops inited\n"
     ]
    },
    {
     "name": "stdin",
     "output_type": "stream",
     "text": [
      "olml >  create model imdb where dataset = imdb\n"
     ]
    },
    {
     "name": "stdout",
     "output_type": "stream",
     "text": [
      "Start parse sql query...\n",
      " Finish parse create model statement: create model imdb where dataset = imdb\n",
      "  Finish parse ops, totally active ops: 0\n",
      "Finish parse sql query\n",
      "Start execute create model query...\n",
      "\u001b[0;33;40mSelecting model using fast model selection.\u001b[0m\n",
      "23: ishan--bert-base-uncased-mnli selected by proxy score: 0.44476433638930446\n",
      "31: Jeevesh8--feather_berts_46 selected by proxy score: 0.4374593293012427\n",
      "20: emrecan--bert-base-multilingual-cased-snli_tr selected by proxy score: 0.2764840575040521\n",
      "21: gchhablani--bert-base-cased-finetuned-rte selected by proxy score: 0.255995358919212\n",
      "38: XSY--albert-base-v2-imdb-calssification selected by proxy score: 0.2536146188371385\n",
      "30: Jeevesh8--bert_ft_qqp-9 selected by proxy score: 0.25152050537126863\n",
      "28: Jeevesh8--bert_ft_qqp-40 selected by proxy score: 0.25137550360199107\n",
      "13: connectivity--bert_ft_qqp-1 selected by proxy score: 0.2505360806927118\n",
      "22: gchhablani--bert-base-cased-finetuned-wnli selected by proxy score: 0.24512623827052882\n",
      "29: Jeevesh8--bert_ft_qqp-68 selected by proxy score: 0.24462616702523374\n",
      "16: connectivity--bert_ft_qqp-96 selected by proxy score: 0.24373316445139487\n",
      "12: classla--bcms-bertic-parlasent-bcs-ter selected by proxy score: 0.24150794404986853\n",
      "33: Jeevesh8--init_bert_ft_qqp-33 selected by proxy score: 0.24122858137210546\n",
      "14: connectivity--bert_ft_qqp-17 selected by proxy score: 0.24058788215759103\n",
      "32: Jeevesh8--init_bert_ft_qqp-24 selected by proxy score: 0.23944889364903832\n",
      "\u001b[0;32;40mUsing ishan--bert-base-uncased-mnli as base model.\u001b[0m\n",
      "will create model from dataset\n",
      "('imdb', 'train.tsv', 'dev.tsv', 'test.tsv', 'SentimentClsEN')\n"
     ]
    },
    {
     "data": {
      "application/vnd.jupyter.widget-view+json": {
       "model_id": "f1ae1488954b4d8c844b39fe720c2f3d",
       "version_major": 2,
       "version_minor": 0
      },
      "text/plain": [
       "Map:   0%|          | 0/500 [00:00<?, ? examples/s]"
      ]
     },
     "metadata": {},
     "output_type": "display_data"
    },
    {
     "data": {
      "application/vnd.jupyter.widget-view+json": {
       "model_id": "ed5f6dcef75940c58e3d6043ac3baf54",
       "version_major": 2,
       "version_minor": 0
      },
      "text/plain": [
       "Map:   0%|          | 0/300 [00:00<?, ? examples/s]"
      ]
     },
     "metadata": {},
     "output_type": "display_data"
    },
    {
     "name": "stderr",
     "output_type": "stream",
     "text": [
      "The following columns in the training set don't have a corresponding argument in `BertForSequenceClassification.forward` and have been ignored: text. If text are not expected by `BertForSequenceClassification.forward`,  you can safely ignore this message.\n",
      "***** Running training *****\n",
      "  Num examples = 500\n",
      "  Num Epochs = 2\n",
      "  Instantaneous batch size per device = 16\n",
      "  Total train batch size (w. parallel, distributed & accumulation) = 16\n",
      "  Gradient Accumulation steps = 1\n",
      "  Total optimization steps = 64\n",
      "  Number of trainable parameters = 109484547\n"
     ]
    },
    {
     "data": {
      "text/html": [
       "\n",
       "    <div>\n",
       "      \n",
       "      <progress value='64' max='64' style='width:300px; height:20px; vertical-align: middle;'></progress>\n",
       "      [64/64 24:42, Epoch 2/2]\n",
       "    </div>\n",
       "    <table border=\"1\" class=\"dataframe\">\n",
       "  <thead>\n",
       " <tr style=\"text-align: left;\">\n",
       "      <th>Epoch</th>\n",
       "      <th>Training Loss</th>\n",
       "      <th>Validation Loss</th>\n",
       "      <th>Accuracy</th>\n",
       "    </tr>\n",
       "  </thead>\n",
       "  <tbody>\n",
       "    <tr>\n",
       "      <td>1</td>\n",
       "      <td>No log</td>\n",
       "      <td>0.207428</td>\n",
       "      <td>0.913333</td>\n",
       "    </tr>\n",
       "    <tr>\n",
       "      <td>2</td>\n",
       "      <td>No log</td>\n",
       "      <td>0.130888</td>\n",
       "      <td>0.946667</td>\n",
       "    </tr>\n",
       "  </tbody>\n",
       "</table><p>"
      ],
      "text/plain": [
       "<IPython.core.display.HTML object>"
      ]
     },
     "metadata": {},
     "output_type": "display_data"
    },
    {
     "name": "stderr",
     "output_type": "stream",
     "text": [
      "The following columns in the evaluation set don't have a corresponding argument in `BertForSequenceClassification.forward` and have been ignored: text. If text are not expected by `BertForSequenceClassification.forward`,  you can safely ignore this message.\n",
      "***** Running Evaluation *****\n",
      "  Num examples = 300\n",
      "  Batch size = 16\n",
      "Saving model checkpoint to E:/RUC/olml-2024-01-10/models/imdb_SentimentClsEN.bin\\checkpoint-32\n",
      "Configuration saved in E:/RUC/olml-2024-01-10/models/imdb_SentimentClsEN.bin\\checkpoint-32\\config.json\n",
      "Model weights saved in E:/RUC/olml-2024-01-10/models/imdb_SentimentClsEN.bin\\checkpoint-32\\pytorch_model.bin\n",
      "tokenizer config file saved in E:/RUC/olml-2024-01-10/models/imdb_SentimentClsEN.bin\\checkpoint-32\\tokenizer_config.json\n",
      "Special tokens file saved in E:/RUC/olml-2024-01-10/models/imdb_SentimentClsEN.bin\\checkpoint-32\\special_tokens_map.json\n",
      "The following columns in the evaluation set don't have a corresponding argument in `BertForSequenceClassification.forward` and have been ignored: text. If text are not expected by `BertForSequenceClassification.forward`,  you can safely ignore this message.\n",
      "***** Running Evaluation *****\n",
      "  Num examples = 300\n",
      "  Batch size = 16\n",
      "Saving model checkpoint to E:/RUC/olml-2024-01-10/models/imdb_SentimentClsEN.bin\\checkpoint-64\n",
      "Configuration saved in E:/RUC/olml-2024-01-10/models/imdb_SentimentClsEN.bin\\checkpoint-64\\config.json\n",
      "Model weights saved in E:/RUC/olml-2024-01-10/models/imdb_SentimentClsEN.bin\\checkpoint-64\\pytorch_model.bin\n",
      "tokenizer config file saved in E:/RUC/olml-2024-01-10/models/imdb_SentimentClsEN.bin\\checkpoint-64\\tokenizer_config.json\n",
      "Special tokens file saved in E:/RUC/olml-2024-01-10/models/imdb_SentimentClsEN.bin\\checkpoint-64\\special_tokens_map.json\n",
      "\n",
      "\n",
      "Training completed. Do not forget to share your model on huggingface.co/models =)\n",
      "\n",
      "\n",
      "Loading best model from E:/RUC/olml-2024-01-10/models/imdb_SentimentClsEN.bin\\checkpoint-64 (score: 0.13088805973529816).\n",
      "Saving model checkpoint to E:/RUC/olml-2024-01-10/models/imdb_SentimentClsEN.bin\n",
      "Configuration saved in E:/RUC/olml-2024-01-10/models/imdb_SentimentClsEN.bin\\config.json\n",
      "Model weights saved in E:/RUC/olml-2024-01-10/models/imdb_SentimentClsEN.bin\\pytorch_model.bin\n",
      "tokenizer config file saved in E:/RUC/olml-2024-01-10/models/imdb_SentimentClsEN.bin\\tokenizer_config.json\n",
      "Special tokens file saved in E:/RUC/olml-2024-01-10/models/imdb_SentimentClsEN.bin\\special_tokens_map.json\n"
     ]
    },
    {
     "name": "stdout",
     "output_type": "stream",
     "text": [
      "Finish execute create model stmt, model_name: imdb\n",
      "\u001b[0;35;40mCommand execution time 1513.42s\u001b[0m\n"
     ]
    },
    {
     "name": "stdin",
     "output_type": "stream",
     "text": [
      "olml >  exit\n"
     ]
    }
   ],
   "source": [
    "from olml import run\n",
    "run()"
   ]
  },
  {
   "cell_type": "code",
   "execution_count": null,
   "id": "1f9ae041-72aa-4e82-9533-4e0a52eb032d",
   "metadata": {},
   "outputs": [],
   "source": []
  }
 ],
 "metadata": {
  "kernelspec": {
   "display_name": "Python 3 (ipykernel)",
   "language": "python",
   "name": "python3"
  },
  "language_info": {
   "codemirror_mode": {
    "name": "ipython",
    "version": 3
   },
   "file_extension": ".py",
   "mimetype": "text/x-python",
   "name": "python",
   "nbconvert_exporter": "python",
   "pygments_lexer": "ipython3",
   "version": "3.9.11"
  }
 },
 "nbformat": 4,
 "nbformat_minor": 5
}
